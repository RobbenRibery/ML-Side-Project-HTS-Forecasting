{
 "cells": [
  {
   "cell_type": "code",
   "execution_count": 90,
   "metadata": {},
   "outputs": [
    {
     "name": "stdout",
     "output_type": "stream",
     "text": [
      "The autoreload extension is already loaded. To reload it, use:\n",
      "  %reload_ext autoreload\n"
     ]
    }
   ],
   "source": [
    "%load_ext autoreload\n",
    "%autoreload 2\n",
    "import sys \n",
    "sys.path.insert(0, '../src/')\n",
    "import pandas as pd \n",
    "from prophet import Prophet\n",
    "import numpy as np \n",
    "import plotly.graph_objs as go\n",
    "\n",
    "import utils \n",
    "import historical_average_topdown "
   ]
  },
  {
   "cell_type": "code",
   "execution_count": 69,
   "metadata": {},
   "outputs": [],
   "source": [
    "sales_train_evaluaiton_root = pd.read_csv('../data/sales_train_evaluation_root.csv')\n",
    "sales_train_validation_root = pd.read_csv('../data/sales_train_validation_root.csv')\n",
    "sample_submission = pd.read_csv('../data/sample_submission.csv')\n",
    "\n",
    "sales_train_validation = pd.read_csv('../data/sales_train_validation.csv')\n",
    "sales_train_evaluaiton = pd.read_csv('../data/sales_train_evaluation.csv')"
   ]
  },
  {
   "cell_type": "code",
   "execution_count": 92,
   "metadata": {},
   "outputs": [
    {
     "data": {
      "text/html": [
       "<div>\n",
       "<style scoped>\n",
       "    .dataframe tbody tr th:only-of-type {\n",
       "        vertical-align: middle;\n",
       "    }\n",
       "\n",
       "    .dataframe tbody tr th {\n",
       "        vertical-align: top;\n",
       "    }\n",
       "\n",
       "    .dataframe thead th {\n",
       "        text-align: right;\n",
       "    }\n",
       "</style>\n",
       "<table border=\"1\" class=\"dataframe\">\n",
       "  <thead>\n",
       "    <tr style=\"text-align: right;\">\n",
       "      <th></th>\n",
       "      <th>id</th>\n",
       "      <th>F1</th>\n",
       "      <th>F2</th>\n",
       "      <th>F3</th>\n",
       "      <th>F4</th>\n",
       "      <th>F5</th>\n",
       "      <th>F6</th>\n",
       "      <th>F7</th>\n",
       "      <th>F8</th>\n",
       "      <th>F9</th>\n",
       "      <th>...</th>\n",
       "      <th>F19</th>\n",
       "      <th>F20</th>\n",
       "      <th>F21</th>\n",
       "      <th>F22</th>\n",
       "      <th>F23</th>\n",
       "      <th>F24</th>\n",
       "      <th>F25</th>\n",
       "      <th>F26</th>\n",
       "      <th>F27</th>\n",
       "      <th>F28</th>\n",
       "    </tr>\n",
       "  </thead>\n",
       "  <tbody>\n",
       "    <tr>\n",
       "      <th>0</th>\n",
       "      <td>HOBBIES_1_001_CA_1_validation</td>\n",
       "      <td>0</td>\n",
       "      <td>0</td>\n",
       "      <td>0</td>\n",
       "      <td>0</td>\n",
       "      <td>0</td>\n",
       "      <td>0</td>\n",
       "      <td>0</td>\n",
       "      <td>0</td>\n",
       "      <td>0</td>\n",
       "      <td>...</td>\n",
       "      <td>0</td>\n",
       "      <td>0</td>\n",
       "      <td>0</td>\n",
       "      <td>0</td>\n",
       "      <td>0</td>\n",
       "      <td>0</td>\n",
       "      <td>0</td>\n",
       "      <td>0</td>\n",
       "      <td>0</td>\n",
       "      <td>0</td>\n",
       "    </tr>\n",
       "    <tr>\n",
       "      <th>1</th>\n",
       "      <td>HOBBIES_1_002_CA_1_validation</td>\n",
       "      <td>0</td>\n",
       "      <td>0</td>\n",
       "      <td>0</td>\n",
       "      <td>0</td>\n",
       "      <td>0</td>\n",
       "      <td>0</td>\n",
       "      <td>0</td>\n",
       "      <td>0</td>\n",
       "      <td>0</td>\n",
       "      <td>...</td>\n",
       "      <td>0</td>\n",
       "      <td>0</td>\n",
       "      <td>0</td>\n",
       "      <td>0</td>\n",
       "      <td>0</td>\n",
       "      <td>0</td>\n",
       "      <td>0</td>\n",
       "      <td>0</td>\n",
       "      <td>0</td>\n",
       "      <td>0</td>\n",
       "    </tr>\n",
       "    <tr>\n",
       "      <th>2</th>\n",
       "      <td>HOBBIES_1_003_CA_1_validation</td>\n",
       "      <td>0</td>\n",
       "      <td>0</td>\n",
       "      <td>0</td>\n",
       "      <td>0</td>\n",
       "      <td>0</td>\n",
       "      <td>0</td>\n",
       "      <td>0</td>\n",
       "      <td>0</td>\n",
       "      <td>0</td>\n",
       "      <td>...</td>\n",
       "      <td>0</td>\n",
       "      <td>0</td>\n",
       "      <td>0</td>\n",
       "      <td>0</td>\n",
       "      <td>0</td>\n",
       "      <td>0</td>\n",
       "      <td>0</td>\n",
       "      <td>0</td>\n",
       "      <td>0</td>\n",
       "      <td>0</td>\n",
       "    </tr>\n",
       "    <tr>\n",
       "      <th>3</th>\n",
       "      <td>HOBBIES_1_004_CA_1_validation</td>\n",
       "      <td>0</td>\n",
       "      <td>0</td>\n",
       "      <td>0</td>\n",
       "      <td>0</td>\n",
       "      <td>0</td>\n",
       "      <td>0</td>\n",
       "      <td>0</td>\n",
       "      <td>0</td>\n",
       "      <td>0</td>\n",
       "      <td>...</td>\n",
       "      <td>0</td>\n",
       "      <td>0</td>\n",
       "      <td>0</td>\n",
       "      <td>0</td>\n",
       "      <td>0</td>\n",
       "      <td>0</td>\n",
       "      <td>0</td>\n",
       "      <td>0</td>\n",
       "      <td>0</td>\n",
       "      <td>0</td>\n",
       "    </tr>\n",
       "    <tr>\n",
       "      <th>4</th>\n",
       "      <td>HOBBIES_1_005_CA_1_validation</td>\n",
       "      <td>0</td>\n",
       "      <td>0</td>\n",
       "      <td>0</td>\n",
       "      <td>0</td>\n",
       "      <td>0</td>\n",
       "      <td>0</td>\n",
       "      <td>0</td>\n",
       "      <td>0</td>\n",
       "      <td>0</td>\n",
       "      <td>...</td>\n",
       "      <td>0</td>\n",
       "      <td>0</td>\n",
       "      <td>0</td>\n",
       "      <td>0</td>\n",
       "      <td>0</td>\n",
       "      <td>0</td>\n",
       "      <td>0</td>\n",
       "      <td>0</td>\n",
       "      <td>0</td>\n",
       "      <td>0</td>\n",
       "    </tr>\n",
       "  </tbody>\n",
       "</table>\n",
       "<p>5 rows × 29 columns</p>\n",
       "</div>"
      ],
      "text/plain": [
       "                              id  F1  F2  F3  F4  F5  F6  F7  F8  F9  ...  \\\n",
       "0  HOBBIES_1_001_CA_1_validation   0   0   0   0   0   0   0   0   0  ...   \n",
       "1  HOBBIES_1_002_CA_1_validation   0   0   0   0   0   0   0   0   0  ...   \n",
       "2  HOBBIES_1_003_CA_1_validation   0   0   0   0   0   0   0   0   0  ...   \n",
       "3  HOBBIES_1_004_CA_1_validation   0   0   0   0   0   0   0   0   0  ...   \n",
       "4  HOBBIES_1_005_CA_1_validation   0   0   0   0   0   0   0   0   0  ...   \n",
       "\n",
       "   F19  F20  F21  F22  F23  F24  F25  F26  F27  F28  \n",
       "0    0    0    0    0    0    0    0    0    0    0  \n",
       "1    0    0    0    0    0    0    0    0    0    0  \n",
       "2    0    0    0    0    0    0    0    0    0    0  \n",
       "3    0    0    0    0    0    0    0    0    0    0  \n",
       "4    0    0    0    0    0    0    0    0    0    0  \n",
       "\n",
       "[5 rows x 29 columns]"
      ]
     },
     "execution_count": 92,
     "metadata": {},
     "output_type": "execute_result"
    }
   ],
   "source": [
    "sample_submission.head()"
   ]
  },
  {
   "cell_type": "code",
   "execution_count": 96,
   "metadata": {},
   "outputs": [
    {
     "data": {
      "text/html": [
       "<div>\n",
       "<style scoped>\n",
       "    .dataframe tbody tr th:only-of-type {\n",
       "        vertical-align: middle;\n",
       "    }\n",
       "\n",
       "    .dataframe tbody tr th {\n",
       "        vertical-align: top;\n",
       "    }\n",
       "\n",
       "    .dataframe thead th {\n",
       "        text-align: right;\n",
       "    }\n",
       "</style>\n",
       "<table border=\"1\" class=\"dataframe\">\n",
       "  <thead>\n",
       "    <tr style=\"text-align: right;\">\n",
       "      <th></th>\n",
       "      <th>F1</th>\n",
       "      <th>F2</th>\n",
       "      <th>F3</th>\n",
       "      <th>F4</th>\n",
       "      <th>F5</th>\n",
       "      <th>F6</th>\n",
       "      <th>F7</th>\n",
       "      <th>F8</th>\n",
       "      <th>F9</th>\n",
       "      <th>F10</th>\n",
       "      <th>...</th>\n",
       "      <th>F19</th>\n",
       "      <th>F20</th>\n",
       "      <th>F21</th>\n",
       "      <th>F22</th>\n",
       "      <th>F23</th>\n",
       "      <th>F24</th>\n",
       "      <th>F25</th>\n",
       "      <th>F26</th>\n",
       "      <th>F27</th>\n",
       "      <th>F28</th>\n",
       "    </tr>\n",
       "    <tr>\n",
       "      <th>id</th>\n",
       "      <th></th>\n",
       "      <th></th>\n",
       "      <th></th>\n",
       "      <th></th>\n",
       "      <th></th>\n",
       "      <th></th>\n",
       "      <th></th>\n",
       "      <th></th>\n",
       "      <th></th>\n",
       "      <th></th>\n",
       "      <th></th>\n",
       "      <th></th>\n",
       "      <th></th>\n",
       "      <th></th>\n",
       "      <th></th>\n",
       "      <th></th>\n",
       "      <th></th>\n",
       "      <th></th>\n",
       "      <th></th>\n",
       "      <th></th>\n",
       "      <th></th>\n",
       "    </tr>\n",
       "  </thead>\n",
       "  <tbody>\n",
       "    <tr>\n",
       "      <th>HOBBIES_1_001_CA_1_evaluation</th>\n",
       "      <td>0.353268</td>\n",
       "      <td>0.332258</td>\n",
       "      <td>0.329658</td>\n",
       "      <td>0.331959</td>\n",
       "      <td>0.367534</td>\n",
       "      <td>0.432128</td>\n",
       "      <td>0.429450</td>\n",
       "      <td>0.358752</td>\n",
       "      <td>0.338066</td>\n",
       "      <td>0.335748</td>\n",
       "      <td>...</td>\n",
       "      <td>0.380156</td>\n",
       "      <td>0.444602</td>\n",
       "      <td>0.441676</td>\n",
       "      <td>0.370638</td>\n",
       "      <td>0.349527</td>\n",
       "      <td>0.346711</td>\n",
       "      <td>0.348686</td>\n",
       "      <td>0.383831</td>\n",
       "      <td>0.447902</td>\n",
       "      <td>0.444618</td>\n",
       "    </tr>\n",
       "    <tr>\n",
       "      <th>HOBBIES_1_002_CA_1_evaluation</th>\n",
       "      <td>0.299278</td>\n",
       "      <td>0.281479</td>\n",
       "      <td>0.279277</td>\n",
       "      <td>0.281226</td>\n",
       "      <td>0.311364</td>\n",
       "      <td>0.366086</td>\n",
       "      <td>0.363817</td>\n",
       "      <td>0.303924</td>\n",
       "      <td>0.286399</td>\n",
       "      <td>0.284436</td>\n",
       "      <td>...</td>\n",
       "      <td>0.322057</td>\n",
       "      <td>0.376654</td>\n",
       "      <td>0.374175</td>\n",
       "      <td>0.313994</td>\n",
       "      <td>0.296109</td>\n",
       "      <td>0.293724</td>\n",
       "      <td>0.295396</td>\n",
       "      <td>0.325170</td>\n",
       "      <td>0.379449</td>\n",
       "      <td>0.376667</td>\n",
       "    </tr>\n",
       "    <tr>\n",
       "      <th>HOBBIES_1_003_CA_1_evaluation</th>\n",
       "      <td>0.168126</td>\n",
       "      <td>0.158127</td>\n",
       "      <td>0.156890</td>\n",
       "      <td>0.157985</td>\n",
       "      <td>0.174915</td>\n",
       "      <td>0.205656</td>\n",
       "      <td>0.204382</td>\n",
       "      <td>0.170736</td>\n",
       "      <td>0.160891</td>\n",
       "      <td>0.159788</td>\n",
       "      <td>...</td>\n",
       "      <td>0.180922</td>\n",
       "      <td>0.211593</td>\n",
       "      <td>0.210201</td>\n",
       "      <td>0.176393</td>\n",
       "      <td>0.166346</td>\n",
       "      <td>0.165005</td>\n",
       "      <td>0.165945</td>\n",
       "      <td>0.182671</td>\n",
       "      <td>0.213164</td>\n",
       "      <td>0.211601</td>\n",
       "    </tr>\n",
       "    <tr>\n",
       "      <th>HOBBIES_1_004_CA_1_evaluation</th>\n",
       "      <td>1.967832</td>\n",
       "      <td>1.850797</td>\n",
       "      <td>1.836316</td>\n",
       "      <td>1.849133</td>\n",
       "      <td>2.047297</td>\n",
       "      <td>2.407110</td>\n",
       "      <td>2.392194</td>\n",
       "      <td>1.998379</td>\n",
       "      <td>1.883149</td>\n",
       "      <td>1.870242</td>\n",
       "      <td>...</td>\n",
       "      <td>2.117608</td>\n",
       "      <td>2.476595</td>\n",
       "      <td>2.460300</td>\n",
       "      <td>2.064590</td>\n",
       "      <td>1.946994</td>\n",
       "      <td>1.931309</td>\n",
       "      <td>1.942307</td>\n",
       "      <td>2.138078</td>\n",
       "      <td>2.494976</td>\n",
       "      <td>2.476685</td>\n",
       "    </tr>\n",
       "    <tr>\n",
       "      <th>HOBBIES_1_005_CA_1_evaluation</th>\n",
       "      <td>1.133962</td>\n",
       "      <td>1.066520</td>\n",
       "      <td>1.058176</td>\n",
       "      <td>1.065561</td>\n",
       "      <td>1.179753</td>\n",
       "      <td>1.387095</td>\n",
       "      <td>1.378499</td>\n",
       "      <td>1.151564</td>\n",
       "      <td>1.085163</td>\n",
       "      <td>1.077726</td>\n",
       "      <td>...</td>\n",
       "      <td>1.220270</td>\n",
       "      <td>1.427136</td>\n",
       "      <td>1.417746</td>\n",
       "      <td>1.189718</td>\n",
       "      <td>1.121954</td>\n",
       "      <td>1.112915</td>\n",
       "      <td>1.119253</td>\n",
       "      <td>1.232066</td>\n",
       "      <td>1.437728</td>\n",
       "      <td>1.427187</td>\n",
       "    </tr>\n",
       "    <tr>\n",
       "      <th>...</th>\n",
       "      <td>...</td>\n",
       "      <td>...</td>\n",
       "      <td>...</td>\n",
       "      <td>...</td>\n",
       "      <td>...</td>\n",
       "      <td>...</td>\n",
       "      <td>...</td>\n",
       "      <td>...</td>\n",
       "      <td>...</td>\n",
       "      <td>...</td>\n",
       "      <td>...</td>\n",
       "      <td>...</td>\n",
       "      <td>...</td>\n",
       "      <td>...</td>\n",
       "      <td>...</td>\n",
       "      <td>...</td>\n",
       "      <td>...</td>\n",
       "      <td>...</td>\n",
       "      <td>...</td>\n",
       "      <td>...</td>\n",
       "      <td>...</td>\n",
       "    </tr>\n",
       "    <tr>\n",
       "      <th>FOODS_3_823_WI_3_evaluation</th>\n",
       "      <td>0.731574</td>\n",
       "      <td>0.688064</td>\n",
       "      <td>0.682680</td>\n",
       "      <td>0.687445</td>\n",
       "      <td>0.761116</td>\n",
       "      <td>0.894882</td>\n",
       "      <td>0.889337</td>\n",
       "      <td>0.742930</td>\n",
       "      <td>0.700091</td>\n",
       "      <td>0.695293</td>\n",
       "      <td>...</td>\n",
       "      <td>0.787255</td>\n",
       "      <td>0.920714</td>\n",
       "      <td>0.914656</td>\n",
       "      <td>0.767545</td>\n",
       "      <td>0.723827</td>\n",
       "      <td>0.717996</td>\n",
       "      <td>0.722084</td>\n",
       "      <td>0.794865</td>\n",
       "      <td>0.927548</td>\n",
       "      <td>0.920748</td>\n",
       "    </tr>\n",
       "    <tr>\n",
       "      <th>FOODS_3_824_WI_3_evaluation</th>\n",
       "      <td>0.492991</td>\n",
       "      <td>0.463671</td>\n",
       "      <td>0.460043</td>\n",
       "      <td>0.463254</td>\n",
       "      <td>0.512899</td>\n",
       "      <td>0.603041</td>\n",
       "      <td>0.599304</td>\n",
       "      <td>0.500644</td>\n",
       "      <td>0.471776</td>\n",
       "      <td>0.468542</td>\n",
       "      <td>...</td>\n",
       "      <td>0.530514</td>\n",
       "      <td>0.620449</td>\n",
       "      <td>0.616366</td>\n",
       "      <td>0.517231</td>\n",
       "      <td>0.487771</td>\n",
       "      <td>0.483841</td>\n",
       "      <td>0.486596</td>\n",
       "      <td>0.535642</td>\n",
       "      <td>0.625054</td>\n",
       "      <td>0.620471</td>\n",
       "    </tr>\n",
       "    <tr>\n",
       "      <th>FOODS_3_825_WI_3_evaluation</th>\n",
       "      <td>1.102940</td>\n",
       "      <td>1.037344</td>\n",
       "      <td>1.029227</td>\n",
       "      <td>1.036411</td>\n",
       "      <td>1.147479</td>\n",
       "      <td>1.349148</td>\n",
       "      <td>1.340788</td>\n",
       "      <td>1.120061</td>\n",
       "      <td>1.055476</td>\n",
       "      <td>1.048242</td>\n",
       "      <td>...</td>\n",
       "      <td>1.186887</td>\n",
       "      <td>1.388093</td>\n",
       "      <td>1.378960</td>\n",
       "      <td>1.157171</td>\n",
       "      <td>1.091260</td>\n",
       "      <td>1.082469</td>\n",
       "      <td>1.088633</td>\n",
       "      <td>1.198360</td>\n",
       "      <td>1.398396</td>\n",
       "      <td>1.388144</td>\n",
       "    </tr>\n",
       "    <tr>\n",
       "      <th>FOODS_3_826_WI_3_evaluation</th>\n",
       "      <td>0.406490</td>\n",
       "      <td>0.382314</td>\n",
       "      <td>0.379323</td>\n",
       "      <td>0.381970</td>\n",
       "      <td>0.422904</td>\n",
       "      <td>0.497230</td>\n",
       "      <td>0.494149</td>\n",
       "      <td>0.412800</td>\n",
       "      <td>0.388997</td>\n",
       "      <td>0.386331</td>\n",
       "      <td>...</td>\n",
       "      <td>0.437428</td>\n",
       "      <td>0.511583</td>\n",
       "      <td>0.508217</td>\n",
       "      <td>0.426477</td>\n",
       "      <td>0.402185</td>\n",
       "      <td>0.398945</td>\n",
       "      <td>0.401217</td>\n",
       "      <td>0.441657</td>\n",
       "      <td>0.515380</td>\n",
       "      <td>0.511602</td>\n",
       "    </tr>\n",
       "    <tr>\n",
       "      <th>FOODS_3_827_WI_3_evaluation</th>\n",
       "      <td>0.765477</td>\n",
       "      <td>0.719951</td>\n",
       "      <td>0.714318</td>\n",
       "      <td>0.719303</td>\n",
       "      <td>0.796388</td>\n",
       "      <td>0.936354</td>\n",
       "      <td>0.930551</td>\n",
       "      <td>0.777359</td>\n",
       "      <td>0.732535</td>\n",
       "      <td>0.727515</td>\n",
       "      <td>...</td>\n",
       "      <td>0.823739</td>\n",
       "      <td>0.963383</td>\n",
       "      <td>0.957044</td>\n",
       "      <td>0.803115</td>\n",
       "      <td>0.757371</td>\n",
       "      <td>0.751269</td>\n",
       "      <td>0.755547</td>\n",
       "      <td>0.831702</td>\n",
       "      <td>0.970533</td>\n",
       "      <td>0.963418</td>\n",
       "    </tr>\n",
       "  </tbody>\n",
       "</table>\n",
       "<p>30490 rows × 28 columns</p>\n",
       "</div>"
      ],
      "text/plain": [
       "                                     F1        F2        F3        F4  \\\n",
       "id                                                                      \n",
       "HOBBIES_1_001_CA_1_evaluation  0.353268  0.332258  0.329658  0.331959   \n",
       "HOBBIES_1_002_CA_1_evaluation  0.299278  0.281479  0.279277  0.281226   \n",
       "HOBBIES_1_003_CA_1_evaluation  0.168126  0.158127  0.156890  0.157985   \n",
       "HOBBIES_1_004_CA_1_evaluation  1.967832  1.850797  1.836316  1.849133   \n",
       "HOBBIES_1_005_CA_1_evaluation  1.133962  1.066520  1.058176  1.065561   \n",
       "...                                 ...       ...       ...       ...   \n",
       "FOODS_3_823_WI_3_evaluation    0.731574  0.688064  0.682680  0.687445   \n",
       "FOODS_3_824_WI_3_evaluation    0.492991  0.463671  0.460043  0.463254   \n",
       "FOODS_3_825_WI_3_evaluation    1.102940  1.037344  1.029227  1.036411   \n",
       "FOODS_3_826_WI_3_evaluation    0.406490  0.382314  0.379323  0.381970   \n",
       "FOODS_3_827_WI_3_evaluation    0.765477  0.719951  0.714318  0.719303   \n",
       "\n",
       "                                     F5        F6        F7        F8  \\\n",
       "id                                                                      \n",
       "HOBBIES_1_001_CA_1_evaluation  0.367534  0.432128  0.429450  0.358752   \n",
       "HOBBIES_1_002_CA_1_evaluation  0.311364  0.366086  0.363817  0.303924   \n",
       "HOBBIES_1_003_CA_1_evaluation  0.174915  0.205656  0.204382  0.170736   \n",
       "HOBBIES_1_004_CA_1_evaluation  2.047297  2.407110  2.392194  1.998379   \n",
       "HOBBIES_1_005_CA_1_evaluation  1.179753  1.387095  1.378499  1.151564   \n",
       "...                                 ...       ...       ...       ...   \n",
       "FOODS_3_823_WI_3_evaluation    0.761116  0.894882  0.889337  0.742930   \n",
       "FOODS_3_824_WI_3_evaluation    0.512899  0.603041  0.599304  0.500644   \n",
       "FOODS_3_825_WI_3_evaluation    1.147479  1.349148  1.340788  1.120061   \n",
       "FOODS_3_826_WI_3_evaluation    0.422904  0.497230  0.494149  0.412800   \n",
       "FOODS_3_827_WI_3_evaluation    0.796388  0.936354  0.930551  0.777359   \n",
       "\n",
       "                                     F9       F10  ...       F19       F20  \\\n",
       "id                                                 ...                       \n",
       "HOBBIES_1_001_CA_1_evaluation  0.338066  0.335748  ...  0.380156  0.444602   \n",
       "HOBBIES_1_002_CA_1_evaluation  0.286399  0.284436  ...  0.322057  0.376654   \n",
       "HOBBIES_1_003_CA_1_evaluation  0.160891  0.159788  ...  0.180922  0.211593   \n",
       "HOBBIES_1_004_CA_1_evaluation  1.883149  1.870242  ...  2.117608  2.476595   \n",
       "HOBBIES_1_005_CA_1_evaluation  1.085163  1.077726  ...  1.220270  1.427136   \n",
       "...                                 ...       ...  ...       ...       ...   \n",
       "FOODS_3_823_WI_3_evaluation    0.700091  0.695293  ...  0.787255  0.920714   \n",
       "FOODS_3_824_WI_3_evaluation    0.471776  0.468542  ...  0.530514  0.620449   \n",
       "FOODS_3_825_WI_3_evaluation    1.055476  1.048242  ...  1.186887  1.388093   \n",
       "FOODS_3_826_WI_3_evaluation    0.388997  0.386331  ...  0.437428  0.511583   \n",
       "FOODS_3_827_WI_3_evaluation    0.732535  0.727515  ...  0.823739  0.963383   \n",
       "\n",
       "                                    F21       F22       F23       F24  \\\n",
       "id                                                                      \n",
       "HOBBIES_1_001_CA_1_evaluation  0.441676  0.370638  0.349527  0.346711   \n",
       "HOBBIES_1_002_CA_1_evaluation  0.374175  0.313994  0.296109  0.293724   \n",
       "HOBBIES_1_003_CA_1_evaluation  0.210201  0.176393  0.166346  0.165005   \n",
       "HOBBIES_1_004_CA_1_evaluation  2.460300  2.064590  1.946994  1.931309   \n",
       "HOBBIES_1_005_CA_1_evaluation  1.417746  1.189718  1.121954  1.112915   \n",
       "...                                 ...       ...       ...       ...   \n",
       "FOODS_3_823_WI_3_evaluation    0.914656  0.767545  0.723827  0.717996   \n",
       "FOODS_3_824_WI_3_evaluation    0.616366  0.517231  0.487771  0.483841   \n",
       "FOODS_3_825_WI_3_evaluation    1.378960  1.157171  1.091260  1.082469   \n",
       "FOODS_3_826_WI_3_evaluation    0.508217  0.426477  0.402185  0.398945   \n",
       "FOODS_3_827_WI_3_evaluation    0.957044  0.803115  0.757371  0.751269   \n",
       "\n",
       "                                    F25       F26       F27       F28  \n",
       "id                                                                     \n",
       "HOBBIES_1_001_CA_1_evaluation  0.348686  0.383831  0.447902  0.444618  \n",
       "HOBBIES_1_002_CA_1_evaluation  0.295396  0.325170  0.379449  0.376667  \n",
       "HOBBIES_1_003_CA_1_evaluation  0.165945  0.182671  0.213164  0.211601  \n",
       "HOBBIES_1_004_CA_1_evaluation  1.942307  2.138078  2.494976  2.476685  \n",
       "HOBBIES_1_005_CA_1_evaluation  1.119253  1.232066  1.437728  1.427187  \n",
       "...                                 ...       ...       ...       ...  \n",
       "FOODS_3_823_WI_3_evaluation    0.722084  0.794865  0.927548  0.920748  \n",
       "FOODS_3_824_WI_3_evaluation    0.486596  0.535642  0.625054  0.620471  \n",
       "FOODS_3_825_WI_3_evaluation    1.088633  1.198360  1.398396  1.388144  \n",
       "FOODS_3_826_WI_3_evaluation    0.401217  0.441657  0.515380  0.511602  \n",
       "FOODS_3_827_WI_3_evaluation    0.755547  0.831702  0.970533  0.963418  \n",
       "\n",
       "[30490 rows x 28 columns]"
      ]
     },
     "execution_count": 96,
     "metadata": {},
     "output_type": "execute_result"
    }
   ],
   "source": [
    "result_validation"
   ]
  },
  {
   "cell_type": "code",
   "execution_count": 38,
   "metadata": {},
   "outputs": [],
   "source": [
    "calender = pd.read_csv('../data/calendar.csv') \n",
    "date_to_d = dict(zip(calender.date, calender.d))"
   ]
  },
  {
   "cell_type": "code",
   "execution_count": 89,
   "metadata": {},
   "outputs": [
    {
     "name": "stdout",
     "output_type": "stream",
     "text": [
      "Overwriting ../src/historical_average_topdown.py\n"
     ]
    }
   ],
   "source": [
    "%%writefile ../src/historical_average_topdown.py\n",
    "\n",
    "from prophet import Prophet \n",
    "import pandas as pd \n",
    "import numpy as np\n",
    "\n",
    "def prophrt_pre_processing(df, calender): \n",
    "\n",
    "\n",
    "    df = df.rename({\"Unnamed: 0\":\"day_index\"})\n",
    "    df.columns = [\"day_index\",'sales_quantity']\n",
    "\n",
    "    df = df.merge(calender[['d','date']], right_on='d', left_on='day_index', how = 'left')\n",
    "\n",
    "    df['date'] = pd.to_datetime(df['date'], format='%Y%m%d', errors='ignore')\n",
    "    df = df[['date','sales_quantity']]\n",
    "    df.columns = ['ds','y']\n",
    "\n",
    "    return df \n",
    "\n",
    "\n",
    "def prophet_train(df, day_seasonality=True): \n",
    "\n",
    "    model = Prophet(daily_seasonality=day_seasonality )\n",
    "    model.fit(df)\n",
    "\n",
    "    return model \n",
    "\n",
    "\n",
    "def prophet_forecast(model,future): \n",
    "\n",
    "    future = model.make_future_dataframe(periods=future)\n",
    "    forecasting = model.predict(future) \n",
    "\n",
    "    return forecasting \n",
    "\n",
    "\n",
    "def get_root_proportions(df , forecast_df, future ,name, sample_submission): \n",
    "\n",
    "    df = df.drop(columns = ['item_id','dept_id','cat_id','store_id','state_id'])\n",
    "    df_values = df.values\n",
    "    df_values = df_values[:,1:] \n",
    "\n",
    "\n",
    "    sum_by_day = df_values.sum(axis = 0)\n",
    "    percentage_by_day = df_values/sum_by_day \n",
    "\n",
    "    historical_percentage = percentage_by_day.mean(axis = 1, keepdims=True ) \n",
    "\n",
    "    y_hat = forecast_df.tail(future)['yhat']\n",
    "    y_hat = y_hat.values.reshape(-1,1) \n",
    "\n",
    "    leaf_forecast = np.dot(historical_percentage, np.transpose(y_hat))\n",
    "    print(f\"Leaft forecast matrix has shape:{leaf_forecast.shape}\")\n",
    "\n",
    "    result_float = pd.DataFrame(leaf_forecast, index= df['id'], columns = sample_submission.columns[1:] )\n",
    "    result_float = result_float.astype(float)\n",
    "    \n",
    "    return result_float \n",
    "\n",
    "\n",
    "def post_processing(valid, eval, sample_submission, INTRESULT = False): \n",
    "\n",
    "    result = pd.concat((valid, eval), axis = 0)\n",
    "\n",
    "    if INTRESULT:\n",
    "        result = result.apply(np.round) \n",
    "\n",
    "    result = result.reset_index() \n",
    "\n",
    "    # validation\n",
    "    for result_id, submission_id in zip(list(result['id']), list(sample_submission['id'])): \n",
    "\n",
    "        if result_id != submission_id: \n",
    "            print(result_id, submission_id)\n",
    "            raise \"Incorrect submmission index found\"\n",
    "\n",
    "    return result \n",
    "\n"
   ]
  },
  {
   "cell_type": "code",
   "execution_count": 97,
   "metadata": {},
   "outputs": [
    {
     "name": "stderr",
     "output_type": "stream",
     "text": [
      "/Users/ericliu/Library/Python/3.8/lib/python/site-packages/prophet/forecaster.py:896: FutureWarning: The frame.append method is deprecated and will be removed from pandas in a future version. Use pandas.concat instead.\n",
      "  components = components.append(new_comp)\n"
     ]
    },
    {
     "name": "stdout",
     "output_type": "stream",
     "text": [
      "Initial log joint probability = -27.3885\n",
      "    Iter      log prob        ||dx||      ||grad||       alpha      alpha0  # evals  Notes \n",
      "      99        4390.2   0.000462918       88.5894      0.3819      0.3819      123   \n",
      "    Iter      log prob        ||dx||      ||grad||       alpha      alpha0  # evals  Notes \n",
      "     187       4393.31   7.18846e-05       123.548    4.57e-07       0.001      287  LS failed, Hessian reset \n",
      "     199       4393.44    0.00030333       97.6894           1           1      303   \n",
      "    Iter      log prob        ||dx||      ||grad||       alpha      alpha0  # evals  Notes \n",
      "     245       4393.83   0.000638502       324.915   8.284e-06       0.001      411  LS failed, Hessian reset \n",
      "     299       4394.17   7.02267e-05       51.0474           1           1      481   \n",
      "    Iter      log prob        ||dx||      ||grad||       alpha      alpha0  # evals  Notes \n",
      "     317        4394.3   0.000949357         209.5   1.318e-05       0.001      576  LS failed, Hessian reset \n",
      "     368       4394.49   8.94208e-05       126.246   1.057e-06       0.001      687  LS failed, Hessian reset \n",
      "     390        4394.5   1.28553e-05       71.2057   2.503e-07       0.001      754  LS failed, Hessian reset \n",
      "     399        4394.5   8.27867e-07       76.2559      0.3503      0.3503      766   \n",
      "    Iter      log prob        ||dx||      ||grad||       alpha      alpha0  # evals  Notes \n",
      "     433       4394.51    4.9307e-05       71.9079   7.873e-07       0.001      849  LS failed, Hessian reset \n",
      "     462       4394.51   3.36852e-06        46.007   5.607e-08       0.001      923  LS failed, Hessian reset \n",
      "     473       4394.51   3.54145e-07        61.359           1           1      938   \n",
      "Optimization terminated normally: \n",
      "  Convergence detected: relative gradient magnitude is below tolerance\n"
     ]
    },
    {
     "name": "stderr",
     "output_type": "stream",
     "text": [
      "/Users/ericliu/Library/Python/3.8/lib/python/site-packages/prophet/forecaster.py:896: FutureWarning: The frame.append method is deprecated and will be removed from pandas in a future version. Use pandas.concat instead.\n",
      "  components = components.append(new_comp)\n",
      "/Users/ericliu/Library/Python/3.8/lib/python/site-packages/prophet/forecaster.py:896: FutureWarning: The frame.append method is deprecated and will be removed from pandas in a future version. Use pandas.concat instead.\n",
      "  components = components.append(new_comp)\n"
     ]
    },
    {
     "name": "stdout",
     "output_type": "stream",
     "text": [
      "Leaft forecast matrix has shape:(30490, 28)\n"
     ]
    },
    {
     "data": {
      "text/html": [
       "<div>\n",
       "<style scoped>\n",
       "    .dataframe tbody tr th:only-of-type {\n",
       "        vertical-align: middle;\n",
       "    }\n",
       "\n",
       "    .dataframe tbody tr th {\n",
       "        vertical-align: top;\n",
       "    }\n",
       "\n",
       "    .dataframe thead th {\n",
       "        text-align: right;\n",
       "    }\n",
       "</style>\n",
       "<table border=\"1\" class=\"dataframe\">\n",
       "  <thead>\n",
       "    <tr style=\"text-align: right;\">\n",
       "      <th></th>\n",
       "      <th>F1</th>\n",
       "      <th>F2</th>\n",
       "      <th>F3</th>\n",
       "      <th>F4</th>\n",
       "      <th>F5</th>\n",
       "      <th>F6</th>\n",
       "      <th>F7</th>\n",
       "      <th>F8</th>\n",
       "      <th>F9</th>\n",
       "      <th>F10</th>\n",
       "      <th>...</th>\n",
       "      <th>F19</th>\n",
       "      <th>F20</th>\n",
       "      <th>F21</th>\n",
       "      <th>F22</th>\n",
       "      <th>F23</th>\n",
       "      <th>F24</th>\n",
       "      <th>F25</th>\n",
       "      <th>F26</th>\n",
       "      <th>F27</th>\n",
       "      <th>F28</th>\n",
       "    </tr>\n",
       "    <tr>\n",
       "      <th>id</th>\n",
       "      <th></th>\n",
       "      <th></th>\n",
       "      <th></th>\n",
       "      <th></th>\n",
       "      <th></th>\n",
       "      <th></th>\n",
       "      <th></th>\n",
       "      <th></th>\n",
       "      <th></th>\n",
       "      <th></th>\n",
       "      <th></th>\n",
       "      <th></th>\n",
       "      <th></th>\n",
       "      <th></th>\n",
       "      <th></th>\n",
       "      <th></th>\n",
       "      <th></th>\n",
       "      <th></th>\n",
       "      <th></th>\n",
       "      <th></th>\n",
       "      <th></th>\n",
       "    </tr>\n",
       "  </thead>\n",
       "  <tbody>\n",
       "    <tr>\n",
       "      <th>HOBBIES_1_001_CA_1_validation</th>\n",
       "      <td>0.330914</td>\n",
       "      <td>0.309658</td>\n",
       "      <td>0.306244</td>\n",
       "      <td>0.307492</td>\n",
       "      <td>0.340842</td>\n",
       "      <td>0.402224</td>\n",
       "      <td>0.398394</td>\n",
       "      <td>0.328874</td>\n",
       "      <td>0.307748</td>\n",
       "      <td>0.304468</td>\n",
       "      <td>...</td>\n",
       "      <td>0.339529</td>\n",
       "      <td>0.401431</td>\n",
       "      <td>0.398173</td>\n",
       "      <td>0.329277</td>\n",
       "      <td>0.308828</td>\n",
       "      <td>0.306280</td>\n",
       "      <td>0.308451</td>\n",
       "      <td>0.342781</td>\n",
       "      <td>0.405199</td>\n",
       "      <td>0.402457</td>\n",
       "    </tr>\n",
       "    <tr>\n",
       "      <th>HOBBIES_1_002_CA_1_validation</th>\n",
       "      <td>0.289849</td>\n",
       "      <td>0.271231</td>\n",
       "      <td>0.268241</td>\n",
       "      <td>0.269334</td>\n",
       "      <td>0.298545</td>\n",
       "      <td>0.352310</td>\n",
       "      <td>0.348956</td>\n",
       "      <td>0.288063</td>\n",
       "      <td>0.269558</td>\n",
       "      <td>0.266685</td>\n",
       "      <td>...</td>\n",
       "      <td>0.297395</td>\n",
       "      <td>0.351616</td>\n",
       "      <td>0.348762</td>\n",
       "      <td>0.288415</td>\n",
       "      <td>0.270504</td>\n",
       "      <td>0.268272</td>\n",
       "      <td>0.270174</td>\n",
       "      <td>0.300244</td>\n",
       "      <td>0.354916</td>\n",
       "      <td>0.352514</td>\n",
       "    </tr>\n",
       "    <tr>\n",
       "      <th>HOBBIES_1_003_CA_1_validation</th>\n",
       "      <td>0.154946</td>\n",
       "      <td>0.144994</td>\n",
       "      <td>0.143395</td>\n",
       "      <td>0.143980</td>\n",
       "      <td>0.159595</td>\n",
       "      <td>0.188337</td>\n",
       "      <td>0.186543</td>\n",
       "      <td>0.153991</td>\n",
       "      <td>0.144099</td>\n",
       "      <td>0.142564</td>\n",
       "      <td>...</td>\n",
       "      <td>0.158980</td>\n",
       "      <td>0.187966</td>\n",
       "      <td>0.186440</td>\n",
       "      <td>0.154180</td>\n",
       "      <td>0.144605</td>\n",
       "      <td>0.143412</td>\n",
       "      <td>0.144429</td>\n",
       "      <td>0.160503</td>\n",
       "      <td>0.189730</td>\n",
       "      <td>0.188446</td>\n",
       "    </tr>\n",
       "    <tr>\n",
       "      <th>HOBBIES_1_004_CA_1_validation</th>\n",
       "      <td>1.904414</td>\n",
       "      <td>1.782086</td>\n",
       "      <td>1.762438</td>\n",
       "      <td>1.769622</td>\n",
       "      <td>1.961548</td>\n",
       "      <td>2.314804</td>\n",
       "      <td>2.292765</td>\n",
       "      <td>1.892675</td>\n",
       "      <td>1.771095</td>\n",
       "      <td>1.752218</td>\n",
       "      <td>...</td>\n",
       "      <td>1.953995</td>\n",
       "      <td>2.310244</td>\n",
       "      <td>2.291491</td>\n",
       "      <td>1.894992</td>\n",
       "      <td>1.777313</td>\n",
       "      <td>1.762644</td>\n",
       "      <td>1.775140</td>\n",
       "      <td>1.972710</td>\n",
       "      <td>2.331926</td>\n",
       "      <td>2.316144</td>\n",
       "    </tr>\n",
       "    <tr>\n",
       "      <th>HOBBIES_1_005_CA_1_validation</th>\n",
       "      <td>1.091443</td>\n",
       "      <td>1.021336</td>\n",
       "      <td>1.010075</td>\n",
       "      <td>1.014192</td>\n",
       "      <td>1.124188</td>\n",
       "      <td>1.326643</td>\n",
       "      <td>1.314012</td>\n",
       "      <td>1.084716</td>\n",
       "      <td>1.015037</td>\n",
       "      <td>1.004218</td>\n",
       "      <td>...</td>\n",
       "      <td>1.119859</td>\n",
       "      <td>1.324030</td>\n",
       "      <td>1.313282</td>\n",
       "      <td>1.086043</td>\n",
       "      <td>1.018600</td>\n",
       "      <td>1.010193</td>\n",
       "      <td>1.017355</td>\n",
       "      <td>1.130585</td>\n",
       "      <td>1.336456</td>\n",
       "      <td>1.327411</td>\n",
       "    </tr>\n",
       "  </tbody>\n",
       "</table>\n",
       "<p>5 rows × 28 columns</p>\n",
       "</div>"
      ],
      "text/plain": [
       "                                     F1        F2        F3        F4  \\\n",
       "id                                                                      \n",
       "HOBBIES_1_001_CA_1_validation  0.330914  0.309658  0.306244  0.307492   \n",
       "HOBBIES_1_002_CA_1_validation  0.289849  0.271231  0.268241  0.269334   \n",
       "HOBBIES_1_003_CA_1_validation  0.154946  0.144994  0.143395  0.143980   \n",
       "HOBBIES_1_004_CA_1_validation  1.904414  1.782086  1.762438  1.769622   \n",
       "HOBBIES_1_005_CA_1_validation  1.091443  1.021336  1.010075  1.014192   \n",
       "\n",
       "                                     F5        F6        F7        F8  \\\n",
       "id                                                                      \n",
       "HOBBIES_1_001_CA_1_validation  0.340842  0.402224  0.398394  0.328874   \n",
       "HOBBIES_1_002_CA_1_validation  0.298545  0.352310  0.348956  0.288063   \n",
       "HOBBIES_1_003_CA_1_validation  0.159595  0.188337  0.186543  0.153991   \n",
       "HOBBIES_1_004_CA_1_validation  1.961548  2.314804  2.292765  1.892675   \n",
       "HOBBIES_1_005_CA_1_validation  1.124188  1.326643  1.314012  1.084716   \n",
       "\n",
       "                                     F9       F10  ...       F19       F20  \\\n",
       "id                                                 ...                       \n",
       "HOBBIES_1_001_CA_1_validation  0.307748  0.304468  ...  0.339529  0.401431   \n",
       "HOBBIES_1_002_CA_1_validation  0.269558  0.266685  ...  0.297395  0.351616   \n",
       "HOBBIES_1_003_CA_1_validation  0.144099  0.142564  ...  0.158980  0.187966   \n",
       "HOBBIES_1_004_CA_1_validation  1.771095  1.752218  ...  1.953995  2.310244   \n",
       "HOBBIES_1_005_CA_1_validation  1.015037  1.004218  ...  1.119859  1.324030   \n",
       "\n",
       "                                    F21       F22       F23       F24  \\\n",
       "id                                                                      \n",
       "HOBBIES_1_001_CA_1_validation  0.398173  0.329277  0.308828  0.306280   \n",
       "HOBBIES_1_002_CA_1_validation  0.348762  0.288415  0.270504  0.268272   \n",
       "HOBBIES_1_003_CA_1_validation  0.186440  0.154180  0.144605  0.143412   \n",
       "HOBBIES_1_004_CA_1_validation  2.291491  1.894992  1.777313  1.762644   \n",
       "HOBBIES_1_005_CA_1_validation  1.313282  1.086043  1.018600  1.010193   \n",
       "\n",
       "                                    F25       F26       F27       F28  \n",
       "id                                                                     \n",
       "HOBBIES_1_001_CA_1_validation  0.308451  0.342781  0.405199  0.402457  \n",
       "HOBBIES_1_002_CA_1_validation  0.270174  0.300244  0.354916  0.352514  \n",
       "HOBBIES_1_003_CA_1_validation  0.144429  0.160503  0.189730  0.188446  \n",
       "HOBBIES_1_004_CA_1_validation  1.775140  1.972710  2.331926  2.316144  \n",
       "HOBBIES_1_005_CA_1_validation  1.017355  1.130585  1.336456  1.327411  \n",
       "\n",
       "[5 rows x 28 columns]"
      ]
     },
     "execution_count": 97,
     "metadata": {},
     "output_type": "execute_result"
    }
   ],
   "source": [
    "df = sales_train_validation_root \n",
    "future  = 28 \n",
    "df_processed = historical_average_topdown.prophrt_pre_processing(df,calender) \n",
    "model = historical_average_topdown.prophet_train(df_processed, day_seasonality = True)\n",
    "forecast = historical_average_topdown.prophet_forecast(model, 28)\n",
    "result_validation = historical_average_topdown.get_root_proportions(sales_train_validation, forecast, future ,'sales_train_validation', sample_submission)\n",
    "result_validation.head()"
   ]
  },
  {
   "cell_type": "code",
   "execution_count": 99,
   "metadata": {},
   "outputs": [
    {
     "name": "stderr",
     "output_type": "stream",
     "text": [
      "/Users/ericliu/Library/Python/3.8/lib/python/site-packages/prophet/forecaster.py:896: FutureWarning: The frame.append method is deprecated and will be removed from pandas in a future version. Use pandas.concat instead.\n",
      "  components = components.append(new_comp)\n"
     ]
    },
    {
     "name": "stdout",
     "output_type": "stream",
     "text": [
      "Initial log joint probability = -35.7339\n",
      "    Iter      log prob        ||dx||      ||grad||       alpha      alpha0  # evals  Notes \n",
      "      99       4539.14    0.00493046       173.115           1           1      135   \n",
      "    Iter      log prob        ||dx||      ||grad||       alpha      alpha0  # evals  Notes \n",
      "     199       4542.53    0.00186406       172.413           1           1      257   \n",
      "    Iter      log prob        ||dx||      ||grad||       alpha      alpha0  # evals  Notes \n",
      "     225       4542.89   9.04218e-05       168.862   3.941e-07       0.001      332  LS failed, Hessian reset \n",
      "     299       4543.25    0.00163571       149.019           1           1      433   \n",
      "    Iter      log prob        ||dx||      ||grad||       alpha      alpha0  # evals  Notes \n",
      "     380       4543.53   4.88214e-07       43.8024      0.5666      0.5666      551   \n",
      "Optimization terminated normally: \n",
      "  Convergence detected: relative gradient magnitude is below tolerance\n"
     ]
    },
    {
     "name": "stderr",
     "output_type": "stream",
     "text": [
      "/Users/ericliu/Library/Python/3.8/lib/python/site-packages/prophet/forecaster.py:896: FutureWarning: The frame.append method is deprecated and will be removed from pandas in a future version. Use pandas.concat instead.\n",
      "  components = components.append(new_comp)\n",
      "/Users/ericliu/Library/Python/3.8/lib/python/site-packages/prophet/forecaster.py:896: FutureWarning: The frame.append method is deprecated and will be removed from pandas in a future version. Use pandas.concat instead.\n",
      "  components = components.append(new_comp)\n"
     ]
    },
    {
     "name": "stdout",
     "output_type": "stream",
     "text": [
      "Leaft forecast matrix has shape:(30490, 28)\n"
     ]
    },
    {
     "data": {
      "text/html": [
       "<div>\n",
       "<style scoped>\n",
       "    .dataframe tbody tr th:only-of-type {\n",
       "        vertical-align: middle;\n",
       "    }\n",
       "\n",
       "    .dataframe tbody tr th {\n",
       "        vertical-align: top;\n",
       "    }\n",
       "\n",
       "    .dataframe thead th {\n",
       "        text-align: right;\n",
       "    }\n",
       "</style>\n",
       "<table border=\"1\" class=\"dataframe\">\n",
       "  <thead>\n",
       "    <tr style=\"text-align: right;\">\n",
       "      <th></th>\n",
       "      <th>F1</th>\n",
       "      <th>F2</th>\n",
       "      <th>F3</th>\n",
       "      <th>F4</th>\n",
       "      <th>F5</th>\n",
       "      <th>F6</th>\n",
       "      <th>F7</th>\n",
       "      <th>F8</th>\n",
       "      <th>F9</th>\n",
       "      <th>F10</th>\n",
       "      <th>...</th>\n",
       "      <th>F19</th>\n",
       "      <th>F20</th>\n",
       "      <th>F21</th>\n",
       "      <th>F22</th>\n",
       "      <th>F23</th>\n",
       "      <th>F24</th>\n",
       "      <th>F25</th>\n",
       "      <th>F26</th>\n",
       "      <th>F27</th>\n",
       "      <th>F28</th>\n",
       "    </tr>\n",
       "    <tr>\n",
       "      <th>id</th>\n",
       "      <th></th>\n",
       "      <th></th>\n",
       "      <th></th>\n",
       "      <th></th>\n",
       "      <th></th>\n",
       "      <th></th>\n",
       "      <th></th>\n",
       "      <th></th>\n",
       "      <th></th>\n",
       "      <th></th>\n",
       "      <th></th>\n",
       "      <th></th>\n",
       "      <th></th>\n",
       "      <th></th>\n",
       "      <th></th>\n",
       "      <th></th>\n",
       "      <th></th>\n",
       "      <th></th>\n",
       "      <th></th>\n",
       "      <th></th>\n",
       "      <th></th>\n",
       "    </tr>\n",
       "  </thead>\n",
       "  <tbody>\n",
       "    <tr>\n",
       "      <th>HOBBIES_1_001_CA_1_evaluation</th>\n",
       "      <td>0.353268</td>\n",
       "      <td>0.332258</td>\n",
       "      <td>0.329658</td>\n",
       "      <td>0.331959</td>\n",
       "      <td>0.367534</td>\n",
       "      <td>0.432128</td>\n",
       "      <td>0.429450</td>\n",
       "      <td>0.358752</td>\n",
       "      <td>0.338066</td>\n",
       "      <td>0.335748</td>\n",
       "      <td>...</td>\n",
       "      <td>0.380156</td>\n",
       "      <td>0.444602</td>\n",
       "      <td>0.441676</td>\n",
       "      <td>0.370638</td>\n",
       "      <td>0.349527</td>\n",
       "      <td>0.346711</td>\n",
       "      <td>0.348686</td>\n",
       "      <td>0.383831</td>\n",
       "      <td>0.447902</td>\n",
       "      <td>0.444618</td>\n",
       "    </tr>\n",
       "    <tr>\n",
       "      <th>HOBBIES_1_002_CA_1_evaluation</th>\n",
       "      <td>0.299278</td>\n",
       "      <td>0.281479</td>\n",
       "      <td>0.279277</td>\n",
       "      <td>0.281226</td>\n",
       "      <td>0.311364</td>\n",
       "      <td>0.366086</td>\n",
       "      <td>0.363817</td>\n",
       "      <td>0.303924</td>\n",
       "      <td>0.286399</td>\n",
       "      <td>0.284436</td>\n",
       "      <td>...</td>\n",
       "      <td>0.322057</td>\n",
       "      <td>0.376654</td>\n",
       "      <td>0.374175</td>\n",
       "      <td>0.313994</td>\n",
       "      <td>0.296109</td>\n",
       "      <td>0.293724</td>\n",
       "      <td>0.295396</td>\n",
       "      <td>0.325170</td>\n",
       "      <td>0.379449</td>\n",
       "      <td>0.376667</td>\n",
       "    </tr>\n",
       "    <tr>\n",
       "      <th>HOBBIES_1_003_CA_1_evaluation</th>\n",
       "      <td>0.168126</td>\n",
       "      <td>0.158127</td>\n",
       "      <td>0.156890</td>\n",
       "      <td>0.157985</td>\n",
       "      <td>0.174915</td>\n",
       "      <td>0.205656</td>\n",
       "      <td>0.204382</td>\n",
       "      <td>0.170736</td>\n",
       "      <td>0.160891</td>\n",
       "      <td>0.159788</td>\n",
       "      <td>...</td>\n",
       "      <td>0.180922</td>\n",
       "      <td>0.211593</td>\n",
       "      <td>0.210201</td>\n",
       "      <td>0.176393</td>\n",
       "      <td>0.166346</td>\n",
       "      <td>0.165005</td>\n",
       "      <td>0.165945</td>\n",
       "      <td>0.182671</td>\n",
       "      <td>0.213164</td>\n",
       "      <td>0.211601</td>\n",
       "    </tr>\n",
       "    <tr>\n",
       "      <th>HOBBIES_1_004_CA_1_evaluation</th>\n",
       "      <td>1.967832</td>\n",
       "      <td>1.850797</td>\n",
       "      <td>1.836316</td>\n",
       "      <td>1.849133</td>\n",
       "      <td>2.047297</td>\n",
       "      <td>2.407110</td>\n",
       "      <td>2.392194</td>\n",
       "      <td>1.998379</td>\n",
       "      <td>1.883149</td>\n",
       "      <td>1.870242</td>\n",
       "      <td>...</td>\n",
       "      <td>2.117608</td>\n",
       "      <td>2.476595</td>\n",
       "      <td>2.460300</td>\n",
       "      <td>2.064590</td>\n",
       "      <td>1.946994</td>\n",
       "      <td>1.931309</td>\n",
       "      <td>1.942307</td>\n",
       "      <td>2.138078</td>\n",
       "      <td>2.494976</td>\n",
       "      <td>2.476685</td>\n",
       "    </tr>\n",
       "    <tr>\n",
       "      <th>HOBBIES_1_005_CA_1_evaluation</th>\n",
       "      <td>1.133962</td>\n",
       "      <td>1.066520</td>\n",
       "      <td>1.058176</td>\n",
       "      <td>1.065561</td>\n",
       "      <td>1.179753</td>\n",
       "      <td>1.387095</td>\n",
       "      <td>1.378499</td>\n",
       "      <td>1.151564</td>\n",
       "      <td>1.085163</td>\n",
       "      <td>1.077726</td>\n",
       "      <td>...</td>\n",
       "      <td>1.220270</td>\n",
       "      <td>1.427136</td>\n",
       "      <td>1.417746</td>\n",
       "      <td>1.189718</td>\n",
       "      <td>1.121954</td>\n",
       "      <td>1.112915</td>\n",
       "      <td>1.119253</td>\n",
       "      <td>1.232066</td>\n",
       "      <td>1.437728</td>\n",
       "      <td>1.427187</td>\n",
       "    </tr>\n",
       "  </tbody>\n",
       "</table>\n",
       "<p>5 rows × 28 columns</p>\n",
       "</div>"
      ],
      "text/plain": [
       "                                     F1        F2        F3        F4  \\\n",
       "id                                                                      \n",
       "HOBBIES_1_001_CA_1_evaluation  0.353268  0.332258  0.329658  0.331959   \n",
       "HOBBIES_1_002_CA_1_evaluation  0.299278  0.281479  0.279277  0.281226   \n",
       "HOBBIES_1_003_CA_1_evaluation  0.168126  0.158127  0.156890  0.157985   \n",
       "HOBBIES_1_004_CA_1_evaluation  1.967832  1.850797  1.836316  1.849133   \n",
       "HOBBIES_1_005_CA_1_evaluation  1.133962  1.066520  1.058176  1.065561   \n",
       "\n",
       "                                     F5        F6        F7        F8  \\\n",
       "id                                                                      \n",
       "HOBBIES_1_001_CA_1_evaluation  0.367534  0.432128  0.429450  0.358752   \n",
       "HOBBIES_1_002_CA_1_evaluation  0.311364  0.366086  0.363817  0.303924   \n",
       "HOBBIES_1_003_CA_1_evaluation  0.174915  0.205656  0.204382  0.170736   \n",
       "HOBBIES_1_004_CA_1_evaluation  2.047297  2.407110  2.392194  1.998379   \n",
       "HOBBIES_1_005_CA_1_evaluation  1.179753  1.387095  1.378499  1.151564   \n",
       "\n",
       "                                     F9       F10  ...       F19       F20  \\\n",
       "id                                                 ...                       \n",
       "HOBBIES_1_001_CA_1_evaluation  0.338066  0.335748  ...  0.380156  0.444602   \n",
       "HOBBIES_1_002_CA_1_evaluation  0.286399  0.284436  ...  0.322057  0.376654   \n",
       "HOBBIES_1_003_CA_1_evaluation  0.160891  0.159788  ...  0.180922  0.211593   \n",
       "HOBBIES_1_004_CA_1_evaluation  1.883149  1.870242  ...  2.117608  2.476595   \n",
       "HOBBIES_1_005_CA_1_evaluation  1.085163  1.077726  ...  1.220270  1.427136   \n",
       "\n",
       "                                    F21       F22       F23       F24  \\\n",
       "id                                                                      \n",
       "HOBBIES_1_001_CA_1_evaluation  0.441676  0.370638  0.349527  0.346711   \n",
       "HOBBIES_1_002_CA_1_evaluation  0.374175  0.313994  0.296109  0.293724   \n",
       "HOBBIES_1_003_CA_1_evaluation  0.210201  0.176393  0.166346  0.165005   \n",
       "HOBBIES_1_004_CA_1_evaluation  2.460300  2.064590  1.946994  1.931309   \n",
       "HOBBIES_1_005_CA_1_evaluation  1.417746  1.189718  1.121954  1.112915   \n",
       "\n",
       "                                    F25       F26       F27       F28  \n",
       "id                                                                     \n",
       "HOBBIES_1_001_CA_1_evaluation  0.348686  0.383831  0.447902  0.444618  \n",
       "HOBBIES_1_002_CA_1_evaluation  0.295396  0.325170  0.379449  0.376667  \n",
       "HOBBIES_1_003_CA_1_evaluation  0.165945  0.182671  0.213164  0.211601  \n",
       "HOBBIES_1_004_CA_1_evaluation  1.942307  2.138078  2.494976  2.476685  \n",
       "HOBBIES_1_005_CA_1_evaluation  1.119253  1.232066  1.437728  1.427187  \n",
       "\n",
       "[5 rows x 28 columns]"
      ]
     },
     "execution_count": 99,
     "metadata": {},
     "output_type": "execute_result"
    }
   ],
   "source": [
    "df = sales_train_evaluaiton_root\n",
    "future  = 28 \n",
    "df_processed = historical_average_topdown.prophrt_pre_processing(df,calender) \n",
    "model = historical_average_topdown.prophet_train(df_processed, day_seasonality = True)\n",
    "forecast = historical_average_topdown.prophet_forecast(model, 28)\n",
    "result_evaluation = historical_average_topdown.get_root_proportions(sales_train_evaluaiton, forecast, future ,'sales_train_validation', sample_submission)\n",
    "result_evaluation.head()"
   ]
  },
  {
   "cell_type": "code",
   "execution_count": 102,
   "metadata": {},
   "outputs": [
    {
     "name": "stdout",
     "output_type": "stream",
     "text": [
      "<class 'pandas.core.frame.DataFrame'>\n",
      "RangeIndex: 60980 entries, 0 to 60979\n",
      "Data columns (total 29 columns):\n",
      " #   Column  Non-Null Count  Dtype  \n",
      "---  ------  --------------  -----  \n",
      " 0   id      60980 non-null  object \n",
      " 1   F1      60980 non-null  float64\n",
      " 2   F2      60980 non-null  float64\n",
      " 3   F3      60980 non-null  float64\n",
      " 4   F4      60980 non-null  float64\n",
      " 5   F5      60980 non-null  float64\n",
      " 6   F6      60980 non-null  float64\n",
      " 7   F7      60980 non-null  float64\n",
      " 8   F8      60980 non-null  float64\n",
      " 9   F9      60980 non-null  float64\n",
      " 10  F10     60980 non-null  float64\n",
      " 11  F11     60980 non-null  float64\n",
      " 12  F12     60980 non-null  float64\n",
      " 13  F13     60980 non-null  float64\n",
      " 14  F14     60980 non-null  float64\n",
      " 15  F15     60980 non-null  float64\n",
      " 16  F16     60980 non-null  float64\n",
      " 17  F17     60980 non-null  float64\n",
      " 18  F18     60980 non-null  float64\n",
      " 19  F19     60980 non-null  float64\n",
      " 20  F20     60980 non-null  float64\n",
      " 21  F21     60980 non-null  float64\n",
      " 22  F22     60980 non-null  float64\n",
      " 23  F23     60980 non-null  float64\n",
      " 24  F24     60980 non-null  float64\n",
      " 25  F25     60980 non-null  float64\n",
      " 26  F26     60980 non-null  float64\n",
      " 27  F27     60980 non-null  float64\n",
      " 28  F28     60980 non-null  float64\n",
      "dtypes: float64(28), object(1)\n",
      "memory usage: 13.5+ MB\n"
     ]
    }
   ],
   "source": [
    "result = historical_average_topdown.post_processing(result_validation, result_evaluation, sample_submission,)\n",
    "result.head()\n",
    "result.info()"
   ]
  },
  {
   "cell_type": "code",
   "execution_count": 106,
   "metadata": {},
   "outputs": [],
   "source": [
    "result.to_csv('../data/submissions/prophet_root_simple_average_proportions.csv', index=False)"
   ]
  },
  {
   "cell_type": "code",
   "execution_count": 61,
   "metadata": {},
   "outputs": [],
   "source": [
    "def plot_forecast(x, y_hat, y_hat_lower, y_hat_upper, y):\n",
    "\n",
    "    x = x.apply(lambda x: x.strftime('%Y-%m-%d'))\n",
    "\n",
    "    fig = go.Figure([\n",
    "        go.Scatter(\n",
    "            name='y_hat',\n",
    "            x=x,\n",
    "            y=y_hat,\n",
    "            mode='lines',\n",
    "            line=dict(color='rgb(31, 119, 180)'),\n",
    "        ),\n",
    "        go.Scatter(\n",
    "            name='Upper Bound',\n",
    "            x=x,\n",
    "            y=y_hat_upper,\n",
    "            mode='lines',\n",
    "            marker=dict(color=\"#444\"),\n",
    "            line=dict(width=0),\n",
    "            showlegend=False\n",
    "        ),\n",
    "        go.Scatter(\n",
    "            name='Lower Bound',\n",
    "            x=x,\n",
    "            y=y_hat_lower,\n",
    "            marker=dict(color=\"#444\"),\n",
    "            line=dict(width=0),\n",
    "            mode='lines',\n",
    "            fillcolor='rgba(68, 68, 68, 0.3)',\n",
    "            fill='tonexty',\n",
    "            showlegend=False\n",
    "        ),\n",
    "        go.Scatter(\n",
    "            name='y',\n",
    "            x=x,\n",
    "            y=y,\n",
    "            mode='lines',\n",
    "            line=dict(color='rgb(25, 190, 70)'),\n",
    "        ),\n",
    "    ])\n",
    "\n",
    "    fig.update_layout(\n",
    "        yaxis_title='Forecasted Sales Quantity',\n",
    "        title='Comparison',\n",
    "        hovermode=\"x\"\n",
    "    )\n",
    "\n",
    "    \n",
    "    fig.show()"
   ]
  },
  {
   "cell_type": "code",
   "execution_count": 62,
   "metadata": {},
   "outputs": [
    {
     "data": {
      "application/vnd.plotly.v1+json": {
       "config": {
        "plotlyServerURL": "https://plot.ly"
       },
       "data": [
        {
         "line": {
          "color": "rgb(31, 119, 180)"
         },
         "mode": "lines",
         "name": "y_hat",
         "type": "scatter",
         "x": [
          "2016-04-25",
          "2016-04-26",
          "2016-04-27",
          "2016-04-28",
          "2016-04-29",
          "2016-04-30",
          "2016-05-01",
          "2016-05-02",
          "2016-05-03",
          "2016-05-04",
          "2016-05-05",
          "2016-05-06",
          "2016-05-07",
          "2016-05-08",
          "2016-05-09",
          "2016-05-10",
          "2016-05-11",
          "2016-05-12",
          "2016-05-13",
          "2016-05-14",
          "2016-05-15",
          "2016-05-16",
          "2016-05-17",
          "2016-05-18",
          "2016-05-19",
          "2016-05-20",
          "2016-05-21",
          "2016-05-22"
         ],
         "y": [
          39463.200550922484,
          36928.33891151561,
          36521.19096366036,
          36670.04090343118,
          40647.14512999993,
          47967.28970235523,
          47510.60404408846,
          39219.96100790624,
          36700.58212592114,
          36309.40382340498,
          36475.061789983156,
          40470.2194905036,
          47810.10563514886,
          47375.30614489643,
          39109.14149464886,
          36617.24906611987,
          36256.92710170562,
          36457.09824928273,
          40490.61943170062,
          47872.80354379672,
          47484.1991048305,
          39267.95923076312,
          36829.41991282331,
          36525.44441035013,
          36784.39181758501,
          40878.4364585073,
          48322.10338511742,
          47995.06573769204
         ]
        },
        {
         "line": {
          "width": 0
         },
         "marker": {
          "color": "#444"
         },
         "mode": "lines",
         "name": "Upper Bound",
         "showlegend": false,
         "type": "scatter",
         "x": [
          "2016-04-25",
          "2016-04-26",
          "2016-04-27",
          "2016-04-28",
          "2016-04-29",
          "2016-04-30",
          "2016-05-01",
          "2016-05-02",
          "2016-05-03",
          "2016-05-04",
          "2016-05-05",
          "2016-05-06",
          "2016-05-07",
          "2016-05-08",
          "2016-05-09",
          "2016-05-10",
          "2016-05-11",
          "2016-05-12",
          "2016-05-13",
          "2016-05-14",
          "2016-05-15",
          "2016-05-16",
          "2016-05-17",
          "2016-05-18",
          "2016-05-19",
          "2016-05-20",
          "2016-05-21",
          "2016-05-22"
         ],
         "y": [
          43931.99485431224,
          41433.42044312438,
          40838.06875582942,
          40936.26050699427,
          44780.494014520234,
          52118.4447142389,
          51869.62118774432,
          43623.51146645653,
          41093.54693772768,
          40778.09134083779,
          40860.156601419236,
          45161.84325956283,
          52115.74494588163,
          51741.8737343976,
          43253.8654226943,
          40910.84285318276,
          40832.00260810525,
          40895.65566269901,
          45038.0265737395,
          52546.632504819885,
          51714.183493231314,
          43900.006593794096,
          41100.89811935394,
          40859.11328764665,
          40911.806943392454,
          45097.692881347764,
          52891.90044697117,
          52201.079384846096
         ]
        },
        {
         "fill": "tonexty",
         "fillcolor": "rgba(68, 68, 68, 0.3)",
         "line": {
          "width": 0
         },
         "marker": {
          "color": "#444"
         },
         "mode": "lines",
         "name": "Lower Bound",
         "showlegend": false,
         "type": "scatter",
         "x": [
          "2016-04-25",
          "2016-04-26",
          "2016-04-27",
          "2016-04-28",
          "2016-04-29",
          "2016-04-30",
          "2016-05-01",
          "2016-05-02",
          "2016-05-03",
          "2016-05-04",
          "2016-05-05",
          "2016-05-06",
          "2016-05-07",
          "2016-05-08",
          "2016-05-09",
          "2016-05-10",
          "2016-05-11",
          "2016-05-12",
          "2016-05-13",
          "2016-05-14",
          "2016-05-15",
          "2016-05-16",
          "2016-05-17",
          "2016-05-18",
          "2016-05-19",
          "2016-05-20",
          "2016-05-21",
          "2016-05-22"
         ],
         "y": [
          35013.585894993936,
          32540.09065504546,
          31834.428374439987,
          32525.80703896718,
          36218.983000650675,
          43648.95555170321,
          43041.99633288176,
          34736.93520120617,
          32032.52552142547,
          32226.16711563221,
          32263.464631648105,
          35900.57355229004,
          43467.59233403509,
          42770.511249760086,
          35052.68075540356,
          32141.72697999367,
          31595.216479799215,
          32092.193725344634,
          36403.59331222203,
          43588.75274202598,
          43046.43391192169,
          34834.19658687063,
          32393.118971220094,
          32178.339900632644,
          32373.768438836283,
          36734.95396356336,
          43858.618666287606,
          43472.38565415309
         ]
        },
        {
         "line": {
          "color": "rgb(25, 190, 70)"
         },
         "mode": "lines",
         "name": "y",
         "type": "scatter",
         "x": [
          "2016-04-25",
          "2016-04-26",
          "2016-04-27",
          "2016-04-28",
          "2016-04-29",
          "2016-04-30",
          "2016-05-01",
          "2016-05-02",
          "2016-05-03",
          "2016-05-04",
          "2016-05-05",
          "2016-05-06",
          "2016-05-07",
          "2016-05-08",
          "2016-05-09",
          "2016-05-10",
          "2016-05-11",
          "2016-05-12",
          "2016-05-13",
          "2016-05-14",
          "2016-05-15",
          "2016-05-16",
          "2016-05-17",
          "2016-05-18",
          "2016-05-19",
          "2016-05-20",
          "2016-05-21",
          "2016-05-22"
         ],
         "y": [
          38793,
          35487,
          34445,
          34732,
          42896,
          50429,
          53032,
          43181,
          44314,
          39601,
          40763,
          43805,
          54239,
          45609,
          46400,
          39379,
          42248,
          40503,
          44073,
          54308,
          59921,
          42362,
          38777,
          37096,
          36963,
          42552,
          51518,
          54338
         ]
        }
       ],
       "layout": {
        "hovermode": "x",
        "template": {
         "data": {
          "bar": [
           {
            "error_x": {
             "color": "#2a3f5f"
            },
            "error_y": {
             "color": "#2a3f5f"
            },
            "marker": {
             "line": {
              "color": "#E5ECF6",
              "width": 0.5
             },
             "pattern": {
              "fillmode": "overlay",
              "size": 10,
              "solidity": 0.2
             }
            },
            "type": "bar"
           }
          ],
          "barpolar": [
           {
            "marker": {
             "line": {
              "color": "#E5ECF6",
              "width": 0.5
             },
             "pattern": {
              "fillmode": "overlay",
              "size": 10,
              "solidity": 0.2
             }
            },
            "type": "barpolar"
           }
          ],
          "carpet": [
           {
            "aaxis": {
             "endlinecolor": "#2a3f5f",
             "gridcolor": "white",
             "linecolor": "white",
             "minorgridcolor": "white",
             "startlinecolor": "#2a3f5f"
            },
            "baxis": {
             "endlinecolor": "#2a3f5f",
             "gridcolor": "white",
             "linecolor": "white",
             "minorgridcolor": "white",
             "startlinecolor": "#2a3f5f"
            },
            "type": "carpet"
           }
          ],
          "choropleth": [
           {
            "colorbar": {
             "outlinewidth": 0,
             "ticks": ""
            },
            "type": "choropleth"
           }
          ],
          "contour": [
           {
            "colorbar": {
             "outlinewidth": 0,
             "ticks": ""
            },
            "colorscale": [
             [
              0,
              "#0d0887"
             ],
             [
              0.1111111111111111,
              "#46039f"
             ],
             [
              0.2222222222222222,
              "#7201a8"
             ],
             [
              0.3333333333333333,
              "#9c179e"
             ],
             [
              0.4444444444444444,
              "#bd3786"
             ],
             [
              0.5555555555555556,
              "#d8576b"
             ],
             [
              0.6666666666666666,
              "#ed7953"
             ],
             [
              0.7777777777777778,
              "#fb9f3a"
             ],
             [
              0.8888888888888888,
              "#fdca26"
             ],
             [
              1,
              "#f0f921"
             ]
            ],
            "type": "contour"
           }
          ],
          "contourcarpet": [
           {
            "colorbar": {
             "outlinewidth": 0,
             "ticks": ""
            },
            "type": "contourcarpet"
           }
          ],
          "heatmap": [
           {
            "colorbar": {
             "outlinewidth": 0,
             "ticks": ""
            },
            "colorscale": [
             [
              0,
              "#0d0887"
             ],
             [
              0.1111111111111111,
              "#46039f"
             ],
             [
              0.2222222222222222,
              "#7201a8"
             ],
             [
              0.3333333333333333,
              "#9c179e"
             ],
             [
              0.4444444444444444,
              "#bd3786"
             ],
             [
              0.5555555555555556,
              "#d8576b"
             ],
             [
              0.6666666666666666,
              "#ed7953"
             ],
             [
              0.7777777777777778,
              "#fb9f3a"
             ],
             [
              0.8888888888888888,
              "#fdca26"
             ],
             [
              1,
              "#f0f921"
             ]
            ],
            "type": "heatmap"
           }
          ],
          "heatmapgl": [
           {
            "colorbar": {
             "outlinewidth": 0,
             "ticks": ""
            },
            "colorscale": [
             [
              0,
              "#0d0887"
             ],
             [
              0.1111111111111111,
              "#46039f"
             ],
             [
              0.2222222222222222,
              "#7201a8"
             ],
             [
              0.3333333333333333,
              "#9c179e"
             ],
             [
              0.4444444444444444,
              "#bd3786"
             ],
             [
              0.5555555555555556,
              "#d8576b"
             ],
             [
              0.6666666666666666,
              "#ed7953"
             ],
             [
              0.7777777777777778,
              "#fb9f3a"
             ],
             [
              0.8888888888888888,
              "#fdca26"
             ],
             [
              1,
              "#f0f921"
             ]
            ],
            "type": "heatmapgl"
           }
          ],
          "histogram": [
           {
            "marker": {
             "pattern": {
              "fillmode": "overlay",
              "size": 10,
              "solidity": 0.2
             }
            },
            "type": "histogram"
           }
          ],
          "histogram2d": [
           {
            "colorbar": {
             "outlinewidth": 0,
             "ticks": ""
            },
            "colorscale": [
             [
              0,
              "#0d0887"
             ],
             [
              0.1111111111111111,
              "#46039f"
             ],
             [
              0.2222222222222222,
              "#7201a8"
             ],
             [
              0.3333333333333333,
              "#9c179e"
             ],
             [
              0.4444444444444444,
              "#bd3786"
             ],
             [
              0.5555555555555556,
              "#d8576b"
             ],
             [
              0.6666666666666666,
              "#ed7953"
             ],
             [
              0.7777777777777778,
              "#fb9f3a"
             ],
             [
              0.8888888888888888,
              "#fdca26"
             ],
             [
              1,
              "#f0f921"
             ]
            ],
            "type": "histogram2d"
           }
          ],
          "histogram2dcontour": [
           {
            "colorbar": {
             "outlinewidth": 0,
             "ticks": ""
            },
            "colorscale": [
             [
              0,
              "#0d0887"
             ],
             [
              0.1111111111111111,
              "#46039f"
             ],
             [
              0.2222222222222222,
              "#7201a8"
             ],
             [
              0.3333333333333333,
              "#9c179e"
             ],
             [
              0.4444444444444444,
              "#bd3786"
             ],
             [
              0.5555555555555556,
              "#d8576b"
             ],
             [
              0.6666666666666666,
              "#ed7953"
             ],
             [
              0.7777777777777778,
              "#fb9f3a"
             ],
             [
              0.8888888888888888,
              "#fdca26"
             ],
             [
              1,
              "#f0f921"
             ]
            ],
            "type": "histogram2dcontour"
           }
          ],
          "mesh3d": [
           {
            "colorbar": {
             "outlinewidth": 0,
             "ticks": ""
            },
            "type": "mesh3d"
           }
          ],
          "parcoords": [
           {
            "line": {
             "colorbar": {
              "outlinewidth": 0,
              "ticks": ""
             }
            },
            "type": "parcoords"
           }
          ],
          "pie": [
           {
            "automargin": true,
            "type": "pie"
           }
          ],
          "scatter": [
           {
            "fillpattern": {
             "fillmode": "overlay",
             "size": 10,
             "solidity": 0.2
            },
            "type": "scatter"
           }
          ],
          "scatter3d": [
           {
            "line": {
             "colorbar": {
              "outlinewidth": 0,
              "ticks": ""
             }
            },
            "marker": {
             "colorbar": {
              "outlinewidth": 0,
              "ticks": ""
             }
            },
            "type": "scatter3d"
           }
          ],
          "scattercarpet": [
           {
            "marker": {
             "colorbar": {
              "outlinewidth": 0,
              "ticks": ""
             }
            },
            "type": "scattercarpet"
           }
          ],
          "scattergeo": [
           {
            "marker": {
             "colorbar": {
              "outlinewidth": 0,
              "ticks": ""
             }
            },
            "type": "scattergeo"
           }
          ],
          "scattergl": [
           {
            "marker": {
             "colorbar": {
              "outlinewidth": 0,
              "ticks": ""
             }
            },
            "type": "scattergl"
           }
          ],
          "scattermapbox": [
           {
            "marker": {
             "colorbar": {
              "outlinewidth": 0,
              "ticks": ""
             }
            },
            "type": "scattermapbox"
           }
          ],
          "scatterpolar": [
           {
            "marker": {
             "colorbar": {
              "outlinewidth": 0,
              "ticks": ""
             }
            },
            "type": "scatterpolar"
           }
          ],
          "scatterpolargl": [
           {
            "marker": {
             "colorbar": {
              "outlinewidth": 0,
              "ticks": ""
             }
            },
            "type": "scatterpolargl"
           }
          ],
          "scatterternary": [
           {
            "marker": {
             "colorbar": {
              "outlinewidth": 0,
              "ticks": ""
             }
            },
            "type": "scatterternary"
           }
          ],
          "surface": [
           {
            "colorbar": {
             "outlinewidth": 0,
             "ticks": ""
            },
            "colorscale": [
             [
              0,
              "#0d0887"
             ],
             [
              0.1111111111111111,
              "#46039f"
             ],
             [
              0.2222222222222222,
              "#7201a8"
             ],
             [
              0.3333333333333333,
              "#9c179e"
             ],
             [
              0.4444444444444444,
              "#bd3786"
             ],
             [
              0.5555555555555556,
              "#d8576b"
             ],
             [
              0.6666666666666666,
              "#ed7953"
             ],
             [
              0.7777777777777778,
              "#fb9f3a"
             ],
             [
              0.8888888888888888,
              "#fdca26"
             ],
             [
              1,
              "#f0f921"
             ]
            ],
            "type": "surface"
           }
          ],
          "table": [
           {
            "cells": {
             "fill": {
              "color": "#EBF0F8"
             },
             "line": {
              "color": "white"
             }
            },
            "header": {
             "fill": {
              "color": "#C8D4E3"
             },
             "line": {
              "color": "white"
             }
            },
            "type": "table"
           }
          ]
         },
         "layout": {
          "annotationdefaults": {
           "arrowcolor": "#2a3f5f",
           "arrowhead": 0,
           "arrowwidth": 1
          },
          "autotypenumbers": "strict",
          "coloraxis": {
           "colorbar": {
            "outlinewidth": 0,
            "ticks": ""
           }
          },
          "colorscale": {
           "diverging": [
            [
             0,
             "#8e0152"
            ],
            [
             0.1,
             "#c51b7d"
            ],
            [
             0.2,
             "#de77ae"
            ],
            [
             0.3,
             "#f1b6da"
            ],
            [
             0.4,
             "#fde0ef"
            ],
            [
             0.5,
             "#f7f7f7"
            ],
            [
             0.6,
             "#e6f5d0"
            ],
            [
             0.7,
             "#b8e186"
            ],
            [
             0.8,
             "#7fbc41"
            ],
            [
             0.9,
             "#4d9221"
            ],
            [
             1,
             "#276419"
            ]
           ],
           "sequential": [
            [
             0,
             "#0d0887"
            ],
            [
             0.1111111111111111,
             "#46039f"
            ],
            [
             0.2222222222222222,
             "#7201a8"
            ],
            [
             0.3333333333333333,
             "#9c179e"
            ],
            [
             0.4444444444444444,
             "#bd3786"
            ],
            [
             0.5555555555555556,
             "#d8576b"
            ],
            [
             0.6666666666666666,
             "#ed7953"
            ],
            [
             0.7777777777777778,
             "#fb9f3a"
            ],
            [
             0.8888888888888888,
             "#fdca26"
            ],
            [
             1,
             "#f0f921"
            ]
           ],
           "sequentialminus": [
            [
             0,
             "#0d0887"
            ],
            [
             0.1111111111111111,
             "#46039f"
            ],
            [
             0.2222222222222222,
             "#7201a8"
            ],
            [
             0.3333333333333333,
             "#9c179e"
            ],
            [
             0.4444444444444444,
             "#bd3786"
            ],
            [
             0.5555555555555556,
             "#d8576b"
            ],
            [
             0.6666666666666666,
             "#ed7953"
            ],
            [
             0.7777777777777778,
             "#fb9f3a"
            ],
            [
             0.8888888888888888,
             "#fdca26"
            ],
            [
             1,
             "#f0f921"
            ]
           ]
          },
          "colorway": [
           "#636efa",
           "#EF553B",
           "#00cc96",
           "#ab63fa",
           "#FFA15A",
           "#19d3f3",
           "#FF6692",
           "#B6E880",
           "#FF97FF",
           "#FECB52"
          ],
          "font": {
           "color": "#2a3f5f"
          },
          "geo": {
           "bgcolor": "white",
           "lakecolor": "white",
           "landcolor": "#E5ECF6",
           "showlakes": true,
           "showland": true,
           "subunitcolor": "white"
          },
          "hoverlabel": {
           "align": "left"
          },
          "hovermode": "closest",
          "mapbox": {
           "style": "light"
          },
          "paper_bgcolor": "white",
          "plot_bgcolor": "#E5ECF6",
          "polar": {
           "angularaxis": {
            "gridcolor": "white",
            "linecolor": "white",
            "ticks": ""
           },
           "bgcolor": "#E5ECF6",
           "radialaxis": {
            "gridcolor": "white",
            "linecolor": "white",
            "ticks": ""
           }
          },
          "scene": {
           "xaxis": {
            "backgroundcolor": "#E5ECF6",
            "gridcolor": "white",
            "gridwidth": 2,
            "linecolor": "white",
            "showbackground": true,
            "ticks": "",
            "zerolinecolor": "white"
           },
           "yaxis": {
            "backgroundcolor": "#E5ECF6",
            "gridcolor": "white",
            "gridwidth": 2,
            "linecolor": "white",
            "showbackground": true,
            "ticks": "",
            "zerolinecolor": "white"
           },
           "zaxis": {
            "backgroundcolor": "#E5ECF6",
            "gridcolor": "white",
            "gridwidth": 2,
            "linecolor": "white",
            "showbackground": true,
            "ticks": "",
            "zerolinecolor": "white"
           }
          },
          "shapedefaults": {
           "line": {
            "color": "#2a3f5f"
           }
          },
          "ternary": {
           "aaxis": {
            "gridcolor": "white",
            "linecolor": "white",
            "ticks": ""
           },
           "baxis": {
            "gridcolor": "white",
            "linecolor": "white",
            "ticks": ""
           },
           "bgcolor": "#E5ECF6",
           "caxis": {
            "gridcolor": "white",
            "linecolor": "white",
            "ticks": ""
           }
          },
          "title": {
           "x": 0.05
          },
          "xaxis": {
           "automargin": true,
           "gridcolor": "white",
           "linecolor": "white",
           "ticks": "",
           "title": {
            "standoff": 15
           },
           "zerolinecolor": "white",
           "zerolinewidth": 2
          },
          "yaxis": {
           "automargin": true,
           "gridcolor": "white",
           "linecolor": "white",
           "ticks": "",
           "title": {
            "standoff": 15
           },
           "zerolinecolor": "white",
           "zerolinewidth": 2
          }
         }
        },
        "title": {
         "text": "Comparison"
        },
        "yaxis": {
         "title": {
          "text": "Forecasted Sales Quantity"
         }
        }
       }
      }
     },
     "metadata": {},
     "output_type": "display_data"
    }
   ],
   "source": [
    "plot_forecast(x, y_hat, y_hat_lower, y_hat_upper,y)"
   ]
  }
 ],
 "metadata": {
  "kernelspec": {
   "display_name": "Python 3.8.9 64-bit",
   "language": "python",
   "name": "python3"
  },
  "language_info": {
   "codemirror_mode": {
    "name": "ipython",
    "version": 3
   },
   "file_extension": ".py",
   "mimetype": "text/x-python",
   "name": "python",
   "nbconvert_exporter": "python",
   "pygments_lexer": "ipython3",
   "version": "3.8.9"
  },
  "orig_nbformat": 4,
  "vscode": {
   "interpreter": {
    "hash": "31f2aee4e71d21fbe5cf8b01ff0e069b9275f58929596ceb00d14d90e3e16cd6"
   }
  }
 },
 "nbformat": 4,
 "nbformat_minor": 2
}
